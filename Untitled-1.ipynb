{
 "cells": [
  {
   "cell_type": "code",
   "execution_count": 1,
   "metadata": {},
   "outputs": [
    {
     "name": "stdout",
     "output_type": "stream",
     "text": [
      "11\n",
      "11\n",
      "None\n"
     ]
    }
   ],
   "source": [
    "s = 'I am happy!'\n",
    "l = len (s)\n",
    "print (l)\n",
    "\n",
    "p = print (l)\n",
    "print (p)"
   ]
  },
  {
   "cell_type": "code",
   "execution_count": 14,
   "metadata": {},
   "outputs": [
    {
     "name": "stdout",
     "output_type": "stream",
     "text": [
      "Hello, I am Mary.\n",
      "I am 20 years old.\n",
      "I lilke cooking.\n",
      "I am very happy to join this class.\n",
      "\n",
      "Mary\n",
      "hary\n"
     ]
    }
   ],
   "source": [
    "name = 'hary'\n",
    "def Introduce (name, age, hobby):\n",
    "    print (f\"Hello, I am {name}.\")\n",
    "    print (f'I am {age} years old.')\n",
    "    print (f'I lilke {hobby}.')\n",
    "    print ('I am very happy to join this class.\\n')\n",
    "    print(name)\n",
    "# Introduce ('David', 20, 'jogginh')\n",
    "Introduce ('Mary', 20 , 'cooking')\n",
    "print (name)"
   ]
  },
  {
   "cell_type": "code",
   "execution_count": 10,
   "metadata": {},
   "outputs": [
    {
     "name": "stdout",
     "output_type": "stream",
     "text": [
      "Hey, David.\n",
      "Happy Birthday to you\n",
      "Happy Birthday to you\n",
      "Happy Birthday to you\n",
      "Happy Birthday to you\n",
      "\n"
     ]
    }
   ],
   "source": [
    "def HappyBirthday (name):\n",
    "    print ('Hey, %s.'% name)\n",
    "    print ('Happy Birthday to you\\n'*4)\n",
    "\n",
    "HappyBirthday ('David')\n"
   ]
  },
  {
   "cell_type": "code",
   "execution_count": 27,
   "metadata": {},
   "outputs": [
    {
     "name": "stdout",
     "output_type": "stream",
     "text": [
      "you are so  cute ^_____^ \n",
      "you are so  cute ^_^\n"
     ]
    }
   ],
   "source": [
    "def smile(n=5):\n",
    "    s = '^' + '_' * n + '^'\n",
    "    return s\n",
    "    # print (s) \n",
    "\n",
    "# print (smile())\n",
    "# print (smile(8)) \n",
    "print ('you are so  cute %s ' % smile())\n",
    "print (f'you are so  cute {smile(1)}')"
   ]
  },
  {
   "cell_type": "code",
   "execution_count": 35,
   "metadata": {},
   "outputs": [
    {
     "name": "stdout",
     "output_type": "stream",
     "text": [
      ">\n",
      "   >\n",
      "      >\n",
      "         >\n",
      "            >\n",
      "         >\n",
      "      >\n",
      "   >\n",
      ">\n"
     ]
    }
   ],
   "source": [
    "def BigGrater(w):\n",
    "    for i in range(w):\n",
    "        s = ' ' * 3 * i + '>'\n",
    "        print (s)\n",
    "    for i in range (w-1):\n",
    "        s = ' ' * 3 * (w - 2 - i) + '>'\n",
    "        print (s) \n",
    "\n",
    "BigGrater(5)"
   ]
  },
  {
   "cell_type": "code",
   "execution_count": 44,
   "metadata": {},
   "outputs": [
    {
     "name": "stdout",
     "output_type": "stream",
     "text": [
      " + - - + - - + - - +\n",
      " |     |     |     |\n",
      " |     |     |     |\n",
      " + _ _ + _ _ + _ _ +\n",
      " |     |     |     |\n",
      " |     |     |     |\n",
      " + _ _ + _ _ + _ _ +\n",
      " |     |     |     |\n",
      " |     |     |     |\n",
      " + _ _ + _ _ + _ _ +\n",
      " |     |     |     |\n",
      " |     |     |     |\n",
      " + _ _ + _ _ + _ _ +\n"
     ]
    }
   ],
   "source": [
    "def Line (c, s, node , edge):\n",
    "    l = node + (edge *s + node) * c\n",
    "    print(l)\n",
    "def Grid (r, c, s):\n",
    "    Line (c, s, ' +', \" -\")\n",
    "    for i in range (r):\n",
    "        for j in range(s):\n",
    "            Line(c, s, ' |', '  ')\n",
    "        Line(c, s, ' +', ' _')\n",
    "Grid (4, 3, 2)"
   ]
  },
  {
   "cell_type": "code",
   "execution_count": 52,
   "metadata": {},
   "outputs": [
    {
     "name": "stdout",
     "output_type": "stream",
     "text": [
      "1\n",
      "2\n",
      "4\n",
      "5\n",
      "10\n",
      "20\n",
      "25\n",
      "50\n",
      "100\n"
     ]
    }
   ],
   "source": [
    "def Factors(n):\n",
    "    for i in range (1,n+1):\n",
    "        if (n % i == 0):\n",
    "            print (i)\n",
    "Factors(100)\n",
    "    "
   ]
  },
  {
   "cell_type": "code",
   "execution_count": 53,
   "metadata": {},
   "outputs": [
    {
     "name": "stdout",
     "output_type": "stream",
     "text": [
      "The word python starts with p.\n",
      "y is greater than a.\n"
     ]
    }
   ],
   "source": [
    "s = \"python\"\n",
    "\n",
    "if (s[0] == \"p\"):\n",
    "    print('The word %s starts with p.'% s)\n",
    "else:\n",
    "    print ('The word %s does not stars with p.' % s )\n",
    "if (s[1] > 'a'):\n",
    "    print ('%s is greater than a.'% s[1]\n",
    "           )"
   ]
  },
  {
   "cell_type": "code",
   "execution_count": 54,
   "metadata": {},
   "outputs": [
    {
     "name": "stdout",
     "output_type": "stream",
     "text": [
      "1.0\n"
     ]
    }
   ],
   "source": [
    "import math\n",
    "\n",
    "x = math.sin(math.pi/2)\n",
    "print (x)"
   ]
  },
  {
   "cell_type": "code",
   "execution_count": 55,
   "metadata": {},
   "outputs": [
    {
     "name": "stdout",
     "output_type": "stream",
     "text": [
      "180\n",
      "3.141592653589793\n"
     ]
    }
   ],
   "source": [
    "pi = 180\n",
    "print (pi)\n",
    "print (math.pi)\n"
   ]
  },
  {
   "cell_type": "code",
   "execution_count": 59,
   "metadata": {},
   "outputs": [
    {
     "name": "stdout",
     "output_type": "stream",
     "text": [
      "[-0.5, -1.0]\n"
     ]
    }
   ],
   "source": [
    "def SolveQuadraticEq(a, b, c):\n",
    "    t = b ** 2 - 4 * a * c\n",
    "    if (t<0):\n",
    "        print ('No answer')\n",
    "        return\n",
    "    else:\n",
    "        sq = math.sqrt(t)\n",
    "        x1 = (-b+sq)/(2*a)\n",
    "        x2 = (-b-sq)/(2*a)\n",
    "        return [x1, x2]\n",
    "x = SolveQuadraticEq(2, 3, 4)\n",
    "print(x)"
   ]
  },
  {
   "cell_type": "code",
   "execution_count": 70,
   "metadata": {},
   "outputs": [
    {
     "name": "stdout",
     "output_type": "stream",
     "text": [
      "1\n",
      "6\n",
      "2\n",
      "6\n",
      "6\n"
     ]
    }
   ],
   "source": [
    "import random\n",
    "\n",
    "def RandInt(n, s, e):\n",
    "    for i in range (n):\n",
    "        print (random.randint(s,e))\n",
    "RandInt(5,1,10)"
   ]
  }
 ],
 "metadata": {
  "kernelspec": {
   "display_name": "Python 3",
   "language": "python",
   "name": "python3"
  },
  "language_info": {
   "codemirror_mode": {
    "name": "ipython",
    "version": 3
   },
   "file_extension": ".py",
   "mimetype": "text/x-python",
   "name": "python",
   "nbconvert_exporter": "python",
   "pygments_lexer": "ipython3",
   "version": "3.8.1"
  },
  "orig_nbformat": 4
 },
 "nbformat": 4,
 "nbformat_minor": 2
}
